{
  "nbformat": 4,
  "nbformat_minor": 0,
  "metadata": {
    "colab": {
      "name": "Concatenate_int.ipynb",
      "provenance": [],
      "collapsed_sections": []
    },
    "kernelspec": {
      "name": "python3",
      "display_name": "Python 3"
    }
  },
  "cells": [
    {
      "cell_type": "code",
      "metadata": {
        "id": "10rrNMSVuTrm",
        "colab_type": "code",
        "colab": {
          "base_uri": "https://localhost:8080/",
          "height": 153
        },
        "outputId": "8f712bb4-b8fe-4a7e-f3f1-d6ece8eb676e"
      },
      "source": [
        "#concatenate strings with odd  and even\n",
        "a = []\n",
        "n = int(input(\"Enter the size of the list\"))\n",
        "print(\"List: \")\n",
        "i = 0\n",
        "while i < n:\n",
        "  ab = int(input(\"enter values: \"))\n",
        "\n",
        "  i+=1\n",
        "  a.append(ab)\n",
        "\n",
        "print(a)"
      ],
      "execution_count": 4,
      "outputs": [
        {
          "output_type": "stream",
          "text": [
            "Enter the size of the list5\n",
            "List: \n",
            "enter values: 12\n",
            "enter values: 16\n",
            "enter values: 48\n",
            "enter values: 32\n",
            "enter values: 5\n",
            "[12, 16, 48, 32, 5]\n"
          ],
          "name": "stdout"
        }
      ]
    }
  ]
}