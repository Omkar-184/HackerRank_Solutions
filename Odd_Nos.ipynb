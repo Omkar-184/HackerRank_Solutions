{
  "nbformat": 4,
  "nbformat_minor": 0,
  "metadata": {
    "colab": {
      "name": "Odd_Nos.ipynb",
      "provenance": [],
      "collapsed_sections": []
    },
    "kernelspec": {
      "name": "python3",
      "display_name": "Python 3"
    }
  },
  "cells": [
    {
      "cell_type": "code",
      "metadata": {
        "id": "10rrNMSVuTrm",
        "colab_type": "code",
        "colab": {
          "base_uri": "https://localhost:8080/",
          "height": 221
        },
        "outputId": "3f105794-ec15-4210-ead6-a18227653931"
      },
      "source": [
        "\n",
        "lower = int(input(\"Enter the lower range value: \"))\n",
        "upper = int(input(\"ENter the upper range value: \"))\n",
        "print(\"Odd nos:\")\n",
        "for i in range(lower, upper+1):\n",
        "  \n",
        "  if(i%2!=0):\n",
        "    print(i)\n",
        "\n"
      ],
      "execution_count": 3,
      "outputs": [
        {
          "output_type": "stream",
          "text": [
            "Enter the lower range value: 1\n",
            "ENter the upper range value: 15\n",
            "Odd nos:\n",
            "1\n",
            "3\n",
            "5\n",
            "7\n",
            "9\n",
            "11\n",
            "13\n",
            "15\n",
            "Even nos: 15\n"
          ],
          "name": "stdout"
        }
      ]
    }
  ]
}